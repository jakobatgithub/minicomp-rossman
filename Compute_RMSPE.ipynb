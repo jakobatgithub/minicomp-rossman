{
 "cells": [
  {
   "cell_type": "code",
   "execution_count": 1,
   "id": "7b1f591e-1bf3-4df5-8cc8-0d8271927b1c",
   "metadata": {},
   "outputs": [
    {
     "name": "stdin",
     "output_type": "stream",
     "text": [
      "Enter the address for the holdout file: ./data/train.csv\n"
     ]
    },
    {
     "name": "stderr",
     "output_type": "stream",
     "text": [
      "/home/jakob/anaconda3/envs/minicomp/lib/python3.9/site-packages/IPython/core/interactiveshell.py:3251: DtypeWarning: Columns (7) have mixed types.Specify dtype option on import or set low_memory=False.\n",
      "  exec(code_obj, self.user_global_ns, self.user_ns)\n"
     ]
    },
    {
     "name": "stdout",
     "output_type": "stream",
     "text": [
      "RMSPE: 0.14563386596189978\n"
     ]
    }
   ],
   "source": [
    "#import libraries\n",
    "import numpy as np\n",
    "import pandas as pd\n",
    "from datetime import datetime\n",
    "import matplotlib.pyplot as plt\n",
    "from sklearn.model_selection import train_test_split\n",
    "from sklearn.metrics import mean_squared_error\n",
    "from math import sqrt\n",
    "from sklearn.ensemble import RandomForestRegressor\n",
    "import category_encoders as ce\n",
    "import xgboost as xgb\n",
    "\n",
    "#prepare the data\n",
    "def my_data_preparation(train_data):\n",
    "    #merge training and store data\n",
    "    all_data = pd.merge(train_data, store_data, how = 'left', on = 'Store')\n",
    "    #convert 'Date' to datetime format\n",
    "    all_data['Date'] = pd.to_datetime(train_data['Date'])\n",
    "    #extract year, month, day of month, and week of year\n",
    "    all_data['Year'] = all_data['Date'].dt.year\n",
    "    all_data['Month'] = all_data['Date'].dt.month\n",
    "    all_data['Day'] = all_data['Date'].dt.day\n",
    "    all_data['WeekOfYear'] = all_data['Date'].dt.isocalendar().week.astype(np.int64)\n",
    "    #fix type errors in the 'StateHoliday' column\n",
    "    all_data['StateHoliday'] = all_data['StateHoliday'].replace(0.0, '0')\n",
    "    #dummy encode all categorical data\n",
    "    all_data = pd.get_dummies(all_data, columns = ['StoreType', 'Assortment', 'StateHoliday'])\n",
    "    #select only columns with numerical data\n",
    "    all_data = all_data.select_dtypes(include=np.number)\n",
    "    #drop columns with too many nans and drop the 'Customers' column\n",
    "    all_data = all_data.drop(columns=['CompetitionOpenSinceMonth', 'CompetitionOpenSinceYear', 'Promo2SinceWeek', 'Promo2SinceYear', 'Customers'])\n",
    "    return all_data\n",
    "\n",
    "#ask user for the address of the holdout file\n",
    "holdout_path = input(\"Enter the address for the holdout file:\")\n",
    "#list of features\n",
    "features =  ['Store', 'DayOfWeek', 'WeekOfYear', 'Month', 'Open', 'Promo', 'SchoolHoliday', \n",
    "             'CompetitionDistance', 'Promo2', \n",
    "             'StoreType_a', 'StoreType_b', 'StoreType_c', 'StoreType_d',\n",
    "             'Assortment_a', 'Assortment_b', 'Assortment_c',\n",
    "             'StateHoliday_0', 'StateHoliday_a', 'StateHoliday_b', 'StateHoliday_c']\n",
    "#list of features and target, the target is 'Sales'\n",
    "features_and_target = list(features)\n",
    "features_and_target.append('Sales')\n",
    "#load data files\n",
    "store_data = pd.read_csv(\"./data/store.csv\")\n",
    "train_data = pd.read_csv(\"./data/train.csv\")\n",
    "holdout_data_0 = pd.read_csv(holdout_path)\n",
    "all_holdout_data = my_data_preparation(holdout_data_0)\n",
    "all_holdout_data = all_holdout_data.dropna(axis = 0, subset = features_and_target)\n",
    "all_holdout_data = all_holdout_data.loc[all_holdout_data['Sales'] != 0.0]\n",
    "sales_holdout = all_holdout_data['Sales']\n",
    "all_holdout_data = all_holdout_data.drop(columns=['Sales'])\n",
    "#prepare the data\n",
    "all_data = my_data_preparation(train_data)\n",
    "#drop all rows with nans in the relevant columns\n",
    "numeric_data = all_data.dropna(axis = 0, subset = features_and_target)\n",
    "#drop all rows with vanishing sales\n",
    "numeric_data = numeric_data.loc[numeric_data['Sales'] != 0.0]\n",
    "data = numeric_data\n",
    "#specify target and features\n",
    "y = data.loc[:, 'Sales']\n",
    "X = data.loc[:, features]\n",
    "#set up the target encoder\n",
    "#we target encode only the 'Store' column\n",
    "ce_te = ce.TargetEncoder(cols = 'Store')\n",
    "#find transform for target encoding\n",
    "ce_te.fit(X, y)\n",
    "#transform features\n",
    "X = ce_te.transform(X)\n",
    "#split into test and training data\n",
    "X_train, X_test, y_train, y_test = train_test_split(X, y, test_size=0.2, random_state=42)\n",
    "#specify features for the holdout data\n",
    "holdout_data = all_holdout_data.loc[:, features]\n",
    "#transform the holdout data\n",
    "X_holdout = ce_te.transform(holdout_data)\n",
    "\n",
    "#XGBoost regression\n",
    "#set up xgb regressor\n",
    "xgbr = xgb.XGBRegressor(max_depth=250,learning_rate=0.2,n_estimators=150,n_jobs=10, \n",
    "                        colsample_bytree=0.4,subsample=0.7,reg_alpha=10,reg_lambda=20)\n",
    "#fit the training data\n",
    "xgbr.fit(X_train, y_train)\n",
    "#xgb prediction on the test data\n",
    "predict_test = xgbr.predict(X_test)\n",
    "#xgb prediction on the test data\n",
    "predict_train = xgbr.predict(X_train)\n",
    "\n",
    "#xgb prediction for the holdout data\n",
    "predict_holdout = xgbr.predict(X_holdout)\n",
    "#compute xgb holdout RMSPE\n",
    "diff = 1 - predict_holdout/sales_holdout\n",
    "RMSPE = sqrt(np.dot(diff,diff)/len(diff))\n",
    "print(f'RMSPE: {RMSPE}')"
   ]
  }
 ],
 "metadata": {
  "kernelspec": {
   "display_name": "Python 3 (ipykernel)",
   "language": "python",
   "name": "python3"
  },
  "language_info": {
   "codemirror_mode": {
    "name": "ipython",
    "version": 3
   },
   "file_extension": ".py",
   "mimetype": "text/x-python",
   "name": "python",
   "nbconvert_exporter": "python",
   "pygments_lexer": "ipython3",
   "version": "3.9.7"
  }
 },
 "nbformat": 4,
 "nbformat_minor": 5
}
