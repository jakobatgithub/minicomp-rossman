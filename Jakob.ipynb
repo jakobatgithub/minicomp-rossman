{
 "cells": [
  {
   "cell_type": "code",
   "execution_count": 1,
   "id": "7b1f591e-1bf3-4df5-8cc8-0d8271927b1c",
   "metadata": {},
   "outputs": [
    {
     "name": "stderr",
     "output_type": "stream",
     "text": [
      "/home/jakob/anaconda3/envs/minicomp/lib/python3.9/site-packages/IPython/core/interactiveshell.py:3251: DtypeWarning: Columns (7) have mixed types.Specify dtype option on import or set low_memory=False.\n",
      "  exec(code_obj, self.user_global_ns, self.user_ns)\n"
     ]
    },
    {
     "name": "stdout",
     "output_type": "stream",
     "text": [
      "store_data.shape: (1115, 10)\n",
      "train_data.shape: (637774, 9)\n",
      "all_data.shape: (637774, 23)\n",
      "['Store', 'DayOfWeek', 'WeekOfYear', 'Month', 'Open', 'Promo', 'SchoolHoliday', 'CompetitionDistance', 'Promo2', 'StoreType_a', 'StoreType_b', 'StoreType_c', 'StoreType_d', 'Assortment_a', 'Assortment_b', 'Assortment_c', 'StateHoliday_0', 'StateHoliday_a', 'StateHoliday_b', 'StateHoliday_c', 'Sales']\n",
      "data.shape: (438993, 23)\n"
     ]
    }
   ],
   "source": [
    "#import libraries\n",
    "import numpy as np\n",
    "import pandas as pd\n",
    "from datetime import datetime\n",
    "import matplotlib.pyplot as plt\n",
    "from sklearn.model_selection import train_test_split\n",
    "from sklearn.metrics import mean_squared_error\n",
    "from math import sqrt\n",
    "from sklearn.ensemble import RandomForestRegressor\n",
    "import category_encoders as ce\n",
    "import xgboost as xgb\n",
    "\n",
    "#prepare te data\n",
    "def my_data_preparation(train_data):\n",
    "    #merge training and store data\n",
    "    all_data = pd.merge(train_data, store_data, how = 'left', on = 'Store')\n",
    "    #convert 'Date' to datetime format\n",
    "    all_data['Date'] = pd.to_datetime(train_data['Date'])\n",
    "    #extract year, month, day of month, and week of year\n",
    "    all_data['Year'] = all_data['Date'].dt.year\n",
    "    all_data['Month'] = all_data['Date'].dt.month\n",
    "    all_data['Day'] = all_data['Date'].dt.day\n",
    "    all_data['WeekOfYear'] = all_data['Date'].dt.isocalendar().week.astype(np.int64)\n",
    "    #fix type errors in the 'StateHoliday' column\n",
    "    all_data['StateHoliday'] = all_data['StateHoliday'].replace(0.0, '0')\n",
    "    #dummy encode all categorical data\n",
    "    all_data = pd.get_dummies(all_data, columns = ['StoreType', 'Assortment', 'StateHoliday'])\n",
    "    #select only columns with numerical data\n",
    "    all_data = all_data.select_dtypes(include=np.number)\n",
    "    #drop columns with too many nans and drop the 'Customers' column\n",
    "    all_data = all_data.drop(columns=['CompetitionOpenSinceMonth', 'CompetitionOpenSinceYear', 'Promo2SinceWeek', 'Promo2SinceYear', 'Customers'])\n",
    "    return all_data\n",
    "\n",
    "\n",
    "#load data files\n",
    "store_data = pd.read_csv(\"./data/store.csv\")\n",
    "train_data = pd.read_csv(\"./data/train.csv\")\n",
    "holdout_data_0 = pd.read_csv(\"./data/holdout_b29.csv\")\n",
    "#prepare the data\n",
    "all_data = my_data_preparation(train_data)\n",
    "all_holdout_data = my_data_preparation(holdout_data_0)\n",
    "print(f'store_data.shape: {store_data.shape}')\n",
    "print(f'train_data.shape: {train_data.shape}')\n",
    "print(f'all_data.shape: {all_data.shape}')\n",
    "#list of features\n",
    "features =  ['Store', 'DayOfWeek', 'WeekOfYear', 'Month', 'Open', 'Promo', 'SchoolHoliday', \n",
    "             'CompetitionDistance', 'Promo2', \n",
    "             'StoreType_a', 'StoreType_b', 'StoreType_c', 'StoreType_d',\n",
    "             'Assortment_a', 'Assortment_b', 'Assortment_c',\n",
    "             'StateHoliday_0', 'StateHoliday_a', 'StateHoliday_b', 'StateHoliday_c']\n",
    "#list of features and target, the target is 'Sales'\n",
    "features_and_target = list(features)\n",
    "features_and_target.append('Sales')\n",
    "print(features_and_target)\n",
    "#drop all rows with nans in the relevant columns\n",
    "numeric_data = all_data.dropna(axis = 0, subset = features_and_target)\n",
    "#drop all rows with vanishing sales\n",
    "numeric_data = numeric_data.loc[numeric_data['Sales'] != 0.0]\n",
    "data = numeric_data\n",
    "print(f'data.shape: {data.shape}')\n",
    "#specify target and features\n",
    "y = data.loc[:, 'Sales']\n",
    "X = data.loc[:, features]\n",
    "#set up the target encoder\n",
    "#we target encode only the 'Store' column\n",
    "ce_te = ce.TargetEncoder(cols = 'Store')\n",
    "#find transform for target encoding\n",
    "ce_te.fit(X, y)\n",
    "#transform features\n",
    "X = ce_te.transform(X)\n",
    "#split into test and training data\n",
    "X_train, X_test, y_train, y_test = train_test_split(X, y, test_size=0.2, random_state=42)\n",
    "#specify features for the holdout data\n",
    "holdout_data = all_holdout_data.loc[:, features]\n",
    "#transform the holdout data\n",
    "X_holdout = ce_te.transform(holdout_data)"
   ]
  },
  {
   "cell_type": "code",
   "execution_count": 2,
   "id": "be0a4a3f-3f4b-49a2-8715-b09da0f25172",
   "metadata": {},
   "outputs": [
    {
     "data": {
      "text/plain": [
       "0.0    40\n",
       "Name: Sales, dtype: int64"
      ]
     },
     "execution_count": 2,
     "metadata": {},
     "output_type": "execute_result"
    }
   ],
   "source": [
    "#How often are 'Sales' zero when shops are open?\n",
    "shop_open = train_data.loc[train_data['Open'] == 1.0].dropna(axis = 0, subset = ['Sales'])\n",
    "shop_open_zero_sales = shop_open.loc[shop_open['Sales'] == 0.0 ]\n",
    "shop_open_zero_sales['Sales'].value_counts()"
   ]
  },
  {
   "cell_type": "code",
   "execution_count": null,
   "id": "61967c23-5017-4947-9259-a90973128a5d",
   "metadata": {},
   "outputs": [],
   "source": [
    "numeric_data.shape: (438993, 23)"
   ]
  },
  {
   "cell_type": "code",
   "execution_count": null,
   "id": "9974b414-cd89-41c7-b617-205fb0cfc92f",
   "metadata": {},
   "outputs": [],
   "source": [
    "#random forest regression\n",
    "#set up random forest regressor\n",
    "rfregr = RandomForestRegressor(max_depth=150, random_state=42)\n",
    "#fit the training data\n",
    "rfregr.fit(X_train, y_train)\n",
    "#random forest prediction on the test data\n",
    "predict_test = rfregr.predict(X_test)\n",
    "#random forest prediction on the training data\n",
    "predict_train = rfregr.predict(X_train)\n",
    "#compute random forest score\n",
    "print(f'RandomForest Score: {rfregr.score(X_test, y_test)}')\n",
    "#compute random forest test RMSE\n",
    "print(f'RandomForest test RMSE: {sqrt(mean_squared_error(y_test, predict_test))}')\n",
    "#compute random forest train RMSE\n",
    "print(f'RandomForest train RMSE: {sqrt(mean_squared_error(y_train, predict_train))}')\n",
    "#compute random forest test RMSPE\n",
    "diff = 1 - predict_test/y_test\n",
    "RMSPE = sqrt(np.dot(diff,diff)/len(diff))\n",
    "print(f'RandomForest test RMSPE: {RMSPE}')\n",
    "#compute random forest train RMSPE\n",
    "#diff = 1 - predict_train/y_train\n",
    "#RMSPE = sqrt(np.dot(diff,diff)/len(diff))\n",
    "#print(f'RandomForest train RMSPE: {RMSPE}')"
   ]
  },
  {
   "cell_type": "code",
   "execution_count": null,
   "id": "b01aa400-0631-400e-ba8a-c6e03e01211e",
   "metadata": {},
   "outputs": [],
   "source": [
    "RandomForest test RMSPE: 0.17908077260534166"
   ]
  },
  {
   "cell_type": "code",
   "execution_count": null,
   "id": "26f777d8-0754-4513-aca3-678b6095e861",
   "metadata": {},
   "outputs": [],
   "source": [
    "#random forest prediction for the holdout data\n",
    "rfregr.predict(X_holdout)"
   ]
  },
  {
   "cell_type": "code",
   "execution_count": null,
   "id": "d0aa4355-b4b9-4f27-ac75-6d8fe507f1d6",
   "metadata": {},
   "outputs": [],
   "source": [
    "X_holdout.isna().sum()"
   ]
  },
  {
   "cell_type": "code",
   "execution_count": null,
   "id": "48ce79a3-e071-4492-b0fc-4ab498fe1999",
   "metadata": {},
   "outputs": [],
   "source": [
    "X_holdout.shape"
   ]
  },
  {
   "cell_type": "code",
   "execution_count": null,
   "id": "f00c473f-fd42-435e-b2f9-0c9babead841",
   "metadata": {},
   "outputs": [],
   "source": [
    "#XGBoost regression\n",
    "#set up xgb regressor\n",
    "xgbr = xgb.XGBRegressor(max_depth=25,learning_rate=0.2,n_estimators=150,n_jobs=10, \n",
    "                        colsample_bytree=0.4,subsample=0.7,reg_alpha=10,reg_lambda=20)\n",
    "#xgbr = xgb.XGBRegressor(max_depth=250,learning_rate=0.2,n_estimators=150,n_jobs=10, \n",
    "#                        colsample_bytree=0.4,subsample=0.7,reg_alpha=10,reg_lambda=20)\n",
    "#fit the training data\n",
    "xgbr.fit(X_train, y_train)\n",
    "#xgb prediction on the test data\n",
    "predict_test = xgbr.predict(X_test)\n",
    "#xgb prediction on the test data\n",
    "predict_train = xgbr.predict(X_train)\n",
    "#compute xgb score\n",
    "print(f'xgbr Score: {xgbr.score(X_test, y_test)}')\n",
    "#compute xgb test RMSE\n",
    "print(f'xgbr test RMSE: {sqrt(mean_squared_error(y_test, predict_test))}')\n",
    "#compute xgb train RMSE\n",
    "print(f'xgbr train RMSE: {sqrt(mean_squared_error(y_train, predict_train))}')\n",
    "#compute xgb test RMSPE\n",
    "diff = 1 - predict_test/y_test\n",
    "RMSPE = sqrt(np.dot(diff,diff)/len(diff))\n",
    "print(f'xgbr test RMSPE: {RMSPE}')\n",
    "#compute xgb train RMSPE\n",
    "#diff = 1 - predict_train/y_train\n",
    "#RMSPE = sqrt(np.dot(diff,diff)/len(diff))\n",
    "#print(f'xgbr train RMSPE: {RMSPE}')"
   ]
  },
  {
   "cell_type": "code",
   "execution_count": null,
   "id": "87b99542-ff1b-4873-9905-943e3ba45186",
   "metadata": {},
   "outputs": [],
   "source": [
    "xgbr test RMSPE: 0.16122761297896557"
   ]
  },
  {
   "cell_type": "code",
   "execution_count": null,
   "id": "b3516b58-a692-4ac4-a54b-ecfc5d5cfb01",
   "metadata": {},
   "outputs": [],
   "source": [
    "#xgb prediction for the holdout data\n",
    "predict_holdout = xgbr.predict(X_holdout)\n",
    "#generate 'ID' column for submission on kaggle\n",
    "Ids = holdout_data_0.iloc[:, 0] + 1\n",
    "#set up Data Frame which holds the 'Id' and 'Sales' columns\n",
    "d = {'Id': Ids, 'Sales': predict_holdout}\n",
    "df_holdout = pd.DataFrame(data = d)\n",
    "#write holdout predition to a csv file\n",
    "df_holdout.to_csv(\"data/predict_holdout.csv\",index=False)\n",
    "print(df_holdout.shape)"
   ]
  },
  {
   "cell_type": "code",
   "execution_count": null,
   "id": "b32d9dc6-61fc-4703-99c3-17635f3298c7",
   "metadata": {},
   "outputs": [],
   "source": [
    "print(df_holdout.tail())"
   ]
  },
  {
   "cell_type": "code",
   "execution_count": 7,
   "id": "c8c61dd1-a138-444e-9e29-4f8491a6e408",
   "metadata": {},
   "outputs": [
    {
     "data": {
      "image/png": "[encoded data removed]",
      "text/plain": [
       "<Figure size 432x288 with 1 Axes>"
      ]
     },
     "metadata": {
      "needs_background": "light"
     },
     "output_type": "display_data"
    }
   ],
   "source": [
    "#store_1 = train_data.loc[train_data['Store'] == store_ids[3]].dropna()\n",
    "#indices = [*range(len(store_1))]\n",
    "#plt.plot(indices, store_1['Sales'])\n",
    "#plt.show()"
   ]
  }
 ],
 "metadata": {
  "kernelspec": {
   "display_name": "Python 3 (ipykernel)",
   "language": "python",
   "name": "python3"
  },
  "language_info": {
   "codemirror_mode": {
    "name": "ipython",
    "version": 3
   },
   "file_extension": ".py",
   "mimetype": "text/x-python",
   "name": "python",
   "nbconvert_exporter": "python",
   "pygments_lexer": "ipython3",
   "version": "3.9.7"
  }
 },
 "nbformat": 4,
 "nbformat_minor": 5
}
